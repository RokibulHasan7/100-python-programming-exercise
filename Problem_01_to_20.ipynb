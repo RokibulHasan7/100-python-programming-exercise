{
 "cells": [
  {
   "cell_type": "markdown",
   "id": "25438df3",
   "metadata": {},
   "source": [
    "###### (Problem: 01) Write a program which will find all such numbers which are divisible by 7 but are not a multiple of 5, between 2000 and 3200 (both included). The numbers obtained should be printed in a comma-separated sequence on a single line."
   ]
  },
  {
   "cell_type": "code",
   "execution_count": 1,
   "id": "d74bfaf2",
   "metadata": {},
   "outputs": [
    {
     "name": "stdout",
     "output_type": "stream",
     "text": [
      "2002,2009,2016,2023,2037,2044,2051,2058,2072,2079,2086,2093,2107,2114,2121,2128,2142,2149,2156,2163,2177,2184,2191,2198,2212,2219,2226,2233,2247,2254,2261,2268,2282,2289,2296,2303,2317,2324,2331,2338,2352,2359,2366,2373,2387,2394,2401,2408,2422,2429,2436,2443,2457,2464,2471,2478,2492,2499,2506,2513,2527,2534,2541,2548,2562,2569,2576,2583,2597,2604,2611,2618,2632,2639,2646,2653,2667,2674,2681,2688,2702,2709,2716,2723,2737,2744,2751,2758,2772,2779,2786,2793,2807,2814,2821,2828,2842,2849,2856,2863,2877,2884,2891,2898,2912,2919,2926,2933,2947,2954,2961,2968,2982,2989,2996,3003,3017,3024,3031,3038,3052,3059,3066,3073,3087,3094,3101,3108,3122,3129,3136,3143,3157,3164,3171,3178,3192,3199,\b\n"
     ]
    }
   ],
   "source": [
    "for num in range(2000, 3201):\n",
    "    if num % 7 == 0 and num % 5 != 0:\n",
    "        print(num, end=\",\")\n",
    "print(\"\\b\")"
   ]
  },
  {
   "cell_type": "markdown",
   "id": "2ea44b7e",
   "metadata": {},
   "source": [
    "###### (Problem: 02) Write a program which can compute the factorial of a given numbers. The results should be printed in a comma-separated sequence on a single line. Suppose the following input is supplied to the program: 8 Then, the output should be: 40320"
   ]
  },
  {
   "cell_type": "code",
   "execution_count": 2,
   "id": "08720f66",
   "metadata": {},
   "outputs": [
    {
     "name": "stdout",
     "output_type": "stream",
     "text": [
      "8\n",
      "40320\n"
     ]
    }
   ],
   "source": [
    "n = int(input())\n",
    "fact = 1\n",
    "for i in range(1, n + 1):\n",
    "    fact = fact * i\n",
    "print(fact)"
   ]
  },
  {
   "cell_type": "markdown",
   "id": "42802620",
   "metadata": {},
   "source": [
    "###### (Problem: 03) With a given integral number n, write a program to generate a dictionary that contains (i, i*i) such that is an integral number between 1 and n (both included). and then the program should print the dictionary. Suppose the following input is supplied to the program: 8 Then, the output should be: {1: 1, 2: 4, 3: 9, 4: 16, 5: 25, 6: 36, 7: 49, 8: 64}"
   ]
  },
  {
   "cell_type": "code",
   "execution_count": 3,
   "id": "6156bfb3",
   "metadata": {},
   "outputs": [
    {
     "name": "stdout",
     "output_type": "stream",
     "text": [
      "8\n",
      "{1: 1, 2: 4, 3: 9, 4: 16, 5: 25, 6: 36, 7: 49, 8: 64}\n"
     ]
    }
   ],
   "source": [
    "n = int(input())\n",
    "ans = dict()\n",
    "for i in range(1, n + 1):\n",
    "    ans[i] = i * i\n",
    "print(ans)"
   ]
  },
  {
   "cell_type": "markdown",
   "id": "5b9e6e73",
   "metadata": {},
   "source": [
    "###### (Problem: 04) Write a program which accepts a sequence of comma-separated numbers from console and generate a list and a tuple which contains every number. Suppose the following input is supplied to the program: 34,67,55,33,12,98                                                                                      Then, the output should be:  ['34', '67', '55', '33', '12', '98'] ('34', '67', '55', '33', '12', '98')"
   ]
  },
  {
   "cell_type": "code",
   "execution_count": 4,
   "id": "9030cbad",
   "metadata": {},
   "outputs": [
    {
     "name": "stdout",
     "output_type": "stream",
     "text": [
      "34,67,55,33,12,98\n",
      "['34', '67', '55', '33', '12', '98']\n",
      "('34', '67', '55', '33', '12', '98')\n"
     ]
    }
   ],
   "source": [
    "lst = input().split(',')\n",
    "tpl = tuple(lst)\n",
    "print(lst)\n",
    "print(tpl)"
   ]
  },
  {
   "cell_type": "markdown",
   "id": "86337f74",
   "metadata": {},
   "source": [
    "###### (Problem: 05) Define a class which has at least two methods: getString: to get a string from console input, printString: to print the string in upper case. Also please include simple test function to test the class methods."
   ]
  },
  {
   "cell_type": "code",
   "execution_count": 5,
   "id": "c778e47d",
   "metadata": {},
   "outputs": [
    {
     "name": "stdout",
     "output_type": "stream",
     "text": [
      "Computer Science\n",
      "COMPUTER SCIENCE\n"
     ]
    }
   ],
   "source": [
    "class InputOutputString():\n",
    "    def get_string(self):\n",
    "        self.s = input()\n",
    "\n",
    "    def print_string(self):\n",
    "        print(self.s.upper())\n",
    "\n",
    "obj = InputOutputString()\n",
    "obj.get_string()\n",
    "obj.print_string()"
   ]
  },
  {
   "cell_type": "markdown",
   "id": "716385fb",
   "metadata": {},
   "source": [
    "###### (Problem: 06) Write a program that calculates and prints the value according to the given formula: Q = Square root of [(2 * C * D)/H]  Following are the fixed values of C and H: C is 50. H is 30. D is the variable whose values should be input to your program in a comma-separated sequence. Example Let us assume the following comma separated input sequence is given to the program: 100,150,180 The output of the program should be: 18,22,24"
   ]
  },
  {
   "cell_type": "code",
   "execution_count": 6,
   "id": "9f09de7a",
   "metadata": {},
   "outputs": [
    {
     "name": "stdout",
     "output_type": "stream",
     "text": [
      "100,150,180\n",
      "18,22,24\n"
     ]
    }
   ],
   "source": [
    "from math import sqrt\n",
    "my_list = [int(x) for x in input('').split(',')]\n",
    "C, H, x = 50, 30, []\n",
    "\n",
    "for D in my_list:\n",
    "    Q = sqrt((2*C*D)/H)\n",
    "    x.append(round(Q))\n",
    "\n",
    "print(','.join(map(str, x)))"
   ]
  },
  {
   "cell_type": "markdown",
   "id": "41bbd208",
   "metadata": {},
   "source": [
    "###### (Problem: 07) Write a program which takes 2 digits, X,Y as input and generates a 2-dimensional array. The element value in the i-th row and j-th column of the array should be i*j. Note: i=0,1.., X-1; j=0,1,¡­Y-1. Example Suppose the following inputs are given to the program: 3,5 Then, the output of the program should be: [[0, 0, 0, 0, 0], [0, 1, 2, 3, 4], [0, 2, 4, 6, 8]] "
   ]
  },
  {
   "cell_type": "code",
   "execution_count": 7,
   "id": "d76f3cbd",
   "metadata": {},
   "outputs": [
    {
     "name": "stdout",
     "output_type": "stream",
     "text": [
      "3,5\n",
      "[[0, 0, 0, 0, 0], [0, 1, 2, 3, 4], [0, 2, 4, 6, 8]]\n"
     ]
    }
   ],
   "source": [
    "X,Y = map(int,input().split(','))\n",
    "lst = []\n",
    "\n",
    "for i in range(X):\n",
    "    temp = []\n",
    "    for j in range(Y):\n",
    "        temp.append(i*j)\n",
    "    lst.append(temp)\n",
    "\n",
    "print(lst)"
   ]
  },
  {
   "cell_type": "markdown",
   "id": "2bb3c7a4",
   "metadata": {},
   "source": [
    "###### (Problem: 08) Write a program that accepts a comma separated sequence of words as input and prints the words in a comma-separated sequence after sorting them alphabetically. Suppose the following input is supplied to the program: without,hello,bag,world Then, the output should be: bag,hello,without,world"
   ]
  },
  {
   "cell_type": "code",
   "execution_count": 8,
   "id": "ae5ba1bb",
   "metadata": {},
   "outputs": [
    {
     "name": "stdout",
     "output_type": "stream",
     "text": [
      "without,hello,bag,world\n",
      "bag,hello,without,world\n"
     ]
    }
   ],
   "source": [
    "lst = input().split(',')\n",
    "lst.sort()\n",
    "\n",
    "print(\",\".join(lst))"
   ]
  },
  {
   "cell_type": "markdown",
   "id": "7f947faf",
   "metadata": {},
   "source": [
    "###### (Problem: 09) Write a program that accepts sequence of lines as input and prints the lines after making all characters in the sentence capitalized. Suppose the following input is supplied to the program: Hello world                                                                                                                                               Practice makes perfect                                                                                                                                                                                                                        Then, the output should be: HELLO WORLD                                                                                                                                                                     PRACTICE MAKES PERFECT"
   ]
  },
  {
   "cell_type": "code",
   "execution_count": 9,
   "id": "9d8c6157",
   "metadata": {},
   "outputs": [
    {
     "name": "stdout",
     "output_type": "stream",
     "text": [
      "Hello world\n",
      "Practice makes perfect\n",
      "\n",
      "HELLO WORLD\n",
      "PRACTICE MAKES PERFECT\n"
     ]
    }
   ],
   "source": [
    "lines = []\n",
    "while True:\n",
    "    sen = input()\n",
    "    if len(sen)==0:\n",
    "        break\n",
    "    lines.append(sen.upper())\n",
    "\n",
    "for sen in lines:\n",
    "    print(sen)"
   ]
  },
  {
   "cell_type": "markdown",
   "id": "00f8daa3",
   "metadata": {},
   "source": [
    "###### (Problem: 10) Write a program that accepts a sequence of whitespace separated words as input and prints the words after removing all duplicate words and sorting them alphanumerically. Suppose the following input is supplied to the program: hello world and practice makes perfect and hello world again Then, the output should be: again and hello makes perfect practice world"
   ]
  },
  {
   "cell_type": "code",
   "execution_count": 10,
   "id": "1d2db478",
   "metadata": {},
   "outputs": [
    {
     "name": "stdout",
     "output_type": "stream",
     "text": [
      "hello world and practice makes perfect and hello world again\n",
      "again and hello makes perfect practice world\n"
     ]
    }
   ],
   "source": [
    "words = input().split()\n",
    "for tmp in words:\n",
    "    if words.count(tmp) > 1:\n",
    "        words.remove(tmp)\n",
    "\n",
    "words.sort()\n",
    "print(\" \".join(words))"
   ]
  },
  {
   "cell_type": "markdown",
   "id": "1a5be833",
   "metadata": {},
   "source": [
    "###### (Problem: 11) Write a program which accepts a sequence of comma separated 4 digit binary numbers as its input and then check whether they are divisible by 5 or not. The numbers that are divisible by 5 are to be printed in a comma separated sequence. Example: 0100,0011,1010,1001 Then the output should be: 1010 Notes: Assume the data is input by console."
   ]
  },
  {
   "cell_type": "code",
   "execution_count": 11,
   "id": "2bbe9807",
   "metadata": {},
   "outputs": [
    {
     "name": "stdout",
     "output_type": "stream",
     "text": [
      "0100,0011,1010,1001\n",
      "1010\n"
     ]
    }
   ],
   "source": [
    "def checkDiv(x):             \n",
    "    return int(x,2)%5 == 0      \n",
    "                                \n",
    "num = input().split(',')\n",
    "\n",
    "num = list(filter(checkDiv,num)) # in filter(func,object) function, elements are picked from 'num' if found True by 'checkDiv' function\n",
    "print(\",\".join(num))"
   ]
  },
  {
   "cell_type": "markdown",
   "id": "76b9ed84",
   "metadata": {},
   "source": [
    "###### (Problem: 12) Write a program, which will find all such numbers between 1000 and 3000 (both included) such that each digit of the number is an even number. The numbers obtained should be printed in a comma-separated sequence on a single line."
   ]
  },
  {
   "cell_type": "code",
   "execution_count": 12,
   "id": "514a273a",
   "metadata": {},
   "outputs": [
    {
     "name": "stdout",
     "output_type": "stream",
     "text": [
      "2000,2002,2004,2006,2008,2020,2022,2024,2026,2028,2040,2042,2044,2046,2048,2060,2062,2064,2066,2068,2080,2082,2084,2086,2088,2200,2202,2204,2206,2208,2220,2222,2224,2226,2228,2240,2242,2244,2246,2248,2260,2262,2264,2266,2268,2280,2282,2284,2286,2288,2400,2402,2404,2406,2408,2420,2422,2424,2426,2428,2440,2442,2444,2446,2448,2460,2462,2464,2466,2468,2480,2482,2484,2486,2488,2600,2602,2604,2606,2608,2620,2622,2624,2626,2628,2640,2642,2644,2646,2648,2660,2662,2664,2666,2668,2680,2682,2684,2686,2688,2800,2802,2804,2806,2808,2820,2822,2824,2826,2828,2840,2842,2844,2846,2848,2860,2862,2864,2866,2868,2880,2882,2884,2886,2888\n"
     ]
    }
   ],
   "source": [
    "ans = []\n",
    "\n",
    "for num in range(1000,3001):\n",
    "    flag = 1\n",
    "    for temp in str(num):  \n",
    "        if ord(temp)%2 != 0:     # here ord returns ASCII value and temp is every digit of num\n",
    "            flag = 0         \n",
    "    if flag == 1:\n",
    "        ans.append(str(num))\n",
    "\n",
    "print(\",\".join(ans))"
   ]
  },
  {
   "cell_type": "markdown",
   "id": "c99737e2",
   "metadata": {},
   "source": [
    "###### (Problem: 13) Write a program that accepts a sentence and calculate the number of letters and digits. Suppose the following input is supplied to the program: hello world! 123 Then, the output should be: LETTERS 10 DIGITS 3"
   ]
  },
  {
   "cell_type": "code",
   "execution_count": 13,
   "id": "64d900ba",
   "metadata": {},
   "outputs": [
    {
     "name": "stdout",
     "output_type": "stream",
     "text": [
      "hello world! 123\n",
      "LETTERS 10\n",
      "DIGITS 3\n"
     ]
    }
   ],
   "source": [
    "sen = input()\n",
    "letter = 0\n",
    "digit = 0\n",
    "\n",
    "for x in sen:\n",
    "    if x.isalpha():\n",
    "        letter += 1\n",
    "    elif x.isnumeric():\n",
    "        digit += 1\n",
    "        \n",
    "print(\"LETTERS {0}\\nDIGITS {1}\".format(letter,digit))"
   ]
  },
  {
   "cell_type": "markdown",
   "id": "fb9d70f5",
   "metadata": {},
   "source": [
    "###### (Problem: 14) Write a program that accepts a sentence and calculate the number of upper case letters and lower case letters. Suppose the following input is supplied to the program: Hello world! Then, the output should be: UPPER CASE 1 LOWER CASE 9"
   ]
  },
  {
   "cell_type": "code",
   "execution_count": 15,
   "id": "332f5fec",
   "metadata": {},
   "outputs": [
    {
     "name": "stdout",
     "output_type": "stream",
     "text": [
      "Hello world!\n",
      "UPPER CASE 1\n",
      "LOWER CASE 9\n"
     ]
    }
   ],
   "source": [
    "sen = input()\n",
    "upper = 0\n",
    "lower = 0\n",
    "\n",
    "for i in sen:\n",
    "    if i.isupper():\n",
    "        upper+=1\n",
    "    if i.islower():\n",
    "        lower+=1\n",
    "\n",
    "print(\"UPPER CASE {0}\\nLOWER CASE {1}\".format(upper,lower))"
   ]
  },
  {
   "cell_type": "markdown",
   "id": "1d45ba0f",
   "metadata": {},
   "source": [
    "###### (Problem: 15) Write a program that computes the value of a+aa+aaa+aaaa with a given digit as the value of a. Suppose the following input is supplied to the program: 9 Then, the output should be: 11106"
   ]
  },
  {
   "cell_type": "code",
   "execution_count": 16,
   "id": "692b25ed",
   "metadata": {},
   "outputs": [
    {
     "name": "stdout",
     "output_type": "stream",
     "text": [
      "9\n",
      "11106\n"
     ]
    }
   ],
   "source": [
    "a = input()\n",
    "total = int(a) + int(2*a) + int(3*a) + int(4*a)\n",
    "print(total)"
   ]
  },
  {
   "cell_type": "markdown",
   "id": "bedf5cad",
   "metadata": {},
   "source": [
    "###### (Problem: 16) Use a list comprehension to square each odd number in a list. The list is input by a sequence of comma-separated numbers. Suppose the following input is supplied to the program: 1,2,3,4,5,6,7,8,9 Then, the output should be: 1,9,25,49,81"
   ]
  },
  {
   "cell_type": "code",
   "execution_count": 17,
   "id": "c7e5dec6",
   "metadata": {},
   "outputs": [
    {
     "name": "stdout",
     "output_type": "stream",
     "text": [
      "1,2,3,4,5,6,7,8,9\n",
      "1,9,25,49,81\n"
     ]
    }
   ],
   "source": [
    "lst = input().split(',') \n",
    "lst = [int(i) for i in lst] \n",
    "ans = []\n",
    "\n",
    "for i in lst:\n",
    "        if i%2 != 0:\n",
    "                i = i*i\n",
    "                ans.append(i)\n",
    "\n",
    "ans = [str(i) for i in ans]\n",
    "print(\",\".join(ans))"
   ]
  },
  {
   "cell_type": "markdown",
   "id": "e0a780b5",
   "metadata": {},
   "source": [
    "###### (Problem: 17) Write a program that computes the net amount of a bank account based a transaction log from console input. The transaction log format is shown as following: D 100 W 200 D means deposit while W means withdrawal. Suppose the following input is supplied to the program: D 300 D 300 W 200 D 100 Then, the output should be: 500"
   ]
  },
  {
   "cell_type": "code",
   "execution_count": 19,
   "id": "ab0f1217",
   "metadata": {},
   "outputs": [
    {
     "name": "stdout",
     "output_type": "stream",
     "text": [
      "D 300\n",
      "D 300\n",
      "W 200\n",
      "D 100\n",
      "\n",
      "500\n"
     ]
    }
   ],
   "source": [
    "balance = 0\n",
    "\n",
    "while True:\n",
    "    s = input().split()\n",
    "    if len(s) == 0:            \n",
    "        break\n",
    "    tran,value = map(str,s)\n",
    "\n",
    "    if tran =='D':\n",
    "        balance += int(value)\n",
    "    if tran =='W':\n",
    "        balance -= int(value)\n",
    "\n",
    "print(balance)"
   ]
  },
  {
   "cell_type": "markdown",
   "id": "74ac2c32",
   "metadata": {},
   "source": [
    "###### (Problem: 18) A website requires the users to input username and password to register. Write a program to check the validity of password input by users. Following are the criteria for checking the password:\n",
    "1. At least 1 letter between [a-z]\n",
    "2. At least 1 number between [0-9]\n",
    "1. At least 1 letter between [A-Z]\n",
    "3. At least 1 character from [$#@]\n",
    "4. Minimum length of transaction password: 6\n",
    "5. Maximum length of transaction password: 12\n",
    "Your program should accept a sequence of comma separated passwords and will check them according to the above criteria. Passwords that match the criteria are to be printed, each separated by a comma. Example: \n",
    "If the following passwords are given as input to the program:\n",
    "ABd1234@1,a F1#,2w3E*,2We3345\n",
    "Then, the output of the program should be:\n",
    "ABd1234@1"
   ]
  },
  {
   "cell_type": "code",
   "execution_count": 20,
   "id": "d773bcfb",
   "metadata": {},
   "outputs": [
    {
     "name": "stdout",
     "output_type": "stream",
     "text": [
      "ABd1234@1,a F1#,2w3E*,2We3345\n",
      "ABd1234@1\n"
     ]
    }
   ],
   "source": [
    "def checkPassword(s):\n",
    "    cnt = (len(s) >= 6 and len(s) <= 12)\n",
    "    \n",
    "    for i in s:\n",
    "        if i.isupper():\n",
    "            cnt += 1\n",
    "            break\n",
    "            \n",
    "    for i in s:\n",
    "        if i.islower():\n",
    "            cnt += 1\n",
    "            break\n",
    "            \n",
    "    for i in s:\n",
    "        if i.isnumeric():\n",
    "            cnt += 1\n",
    "            break\n",
    "            \n",
    "    for i in s:\n",
    "        if i=='@' or i=='#' or i=='$':\n",
    "            cnt += 1\n",
    "            break\n",
    "            \n",
    "    return cnt == 5            \n",
    "\n",
    "passlen = input().split(',')\n",
    "ans = filter(checkPassword,passlen)             \n",
    "print(\",\".join(ans))"
   ]
  },
  {
   "cell_type": "markdown",
   "id": "056a8cd0",
   "metadata": {},
   "source": [
    "###### (Problem: 19) You are required to write a program to sort the (name, age, height) tuples by ascending order where name is string, age and height are numbers. The tuples are input by console. The sort criteria is: 1: Sort based on name; 2: Then sort based on age; 3: Then sort by score. The priority is that name > age > score. If the following tuples are given as input to the program: Tom,19,80 John,20,90 Jony,17,91 Jony,17,93 Json,21,85 Then, the output of the program should be: [('John', '20', '90'), ('Jony', '17', '91'), ('Jony', '17', '93'), ('Json', '21', '85'), ('Tom', '19', '80')]"
   ]
  },
  {
   "cell_type": "code",
   "execution_count": 21,
   "id": "207064bc",
   "metadata": {},
   "outputs": [
    {
     "name": "stdout",
     "output_type": "stream",
     "text": [
      "Tom,19,80\n",
      "John,20,90\n",
      "Jony,17,91\n",
      "Jony,17,93\n",
      "Json,21,85\n",
      "\n",
      "[('John', '20', '90'), ('Jony', '17', '91'), ('Jony', '17', '93'), ('Json', '21', '85'), ('Tom', '19', '80')]\n"
     ]
    }
   ],
   "source": [
    "ans = []\n",
    "\n",
    "while True:\n",
    "    s = input().split(',')\n",
    "    if not s[0]:                  \n",
    "        break\n",
    "    ans.append(tuple(s))\n",
    "\n",
    "ans.sort(key = lambda x:(x[0], int(x[1]), int(x[2])))  # here key is defined by lambda and the data is sorted by element priority 0>1>2 in accending order\n",
    "print(ans)"
   ]
  },
  {
   "cell_type": "markdown",
   "id": "8fd63ffb",
   "metadata": {},
   "source": [
    "###### (Problem: 20) Define a class with a generator which can iterate the numbers, which are divisible by 7, between a given range 0 and n. Suppose the following input is supplied to the program: 7 Then, the output should be: 0 7 (Consider use yield)"
   ]
  },
  {
   "cell_type": "code",
   "execution_count": 25,
   "id": "c112afcc",
   "metadata": {},
   "outputs": [
    {
     "name": "stdout",
     "output_type": "stream",
     "text": [
      "Please insert a number: 7\n",
      "0\n",
      "7\n"
     ]
    }
   ],
   "source": [
    "class Div:\n",
    "    def by_seven(self, n):\n",
    "        for num in range(0, n + 1):\n",
    "            if num % 7 == 0: yield num\n",
    "\n",
    "divisible = Div()\n",
    "generator = divisible.by_seven(int(input(\"Please insert a number: \")))\n",
    "for num in generator:\n",
    "    print(num)"
   ]
  }
 ],
 "metadata": {
  "kernelspec": {
   "display_name": "Python 3",
   "language": "python",
   "name": "python3"
  },
  "language_info": {
   "codemirror_mode": {
    "name": "ipython",
    "version": 3
   },
   "file_extension": ".py",
   "mimetype": "text/x-python",
   "name": "python",
   "nbconvert_exporter": "python",
   "pygments_lexer": "ipython3",
   "version": "3.8.8"
  },
  "widgets": {
   "application/vnd.jupyter.widget-state+json": {
    "state": {},
    "version_major": 2,
    "version_minor": 0
   }
  }
 },
 "nbformat": 4,
 "nbformat_minor": 5
}
