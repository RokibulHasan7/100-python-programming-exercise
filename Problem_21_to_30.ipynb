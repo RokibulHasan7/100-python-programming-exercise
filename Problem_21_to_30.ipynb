{
 "cells": [
  {
   "cell_type": "markdown",
   "id": "76155142",
   "metadata": {},
   "source": [
    "## Problem 21\n",
    "\n",
    "#### A robot moves in a plane starting from the original point (0,0). The robot can move toward UP, DOWN, LEFT and RIGHT with a given steps. The trace of robot movement is shown as the following:\n",
    "#### UP 5\n",
    "#### LEFT 3\n",
    "#### RIGHT 2\n",
    "#### ¡­\n",
    "#### The numbers after the direction are steps. Please write a program to compute the distance from current position after a sequence of movement and original point. If the distance is a float, then just print the nearest integer.\n",
    "#### Example:\n",
    "#### If the following tuples are given as input to the program:\n",
    "#### UP 5\n",
    "#### DOWN 3\n",
    "#### LEFT 3\n",
    "#### RIGHT 2\n",
    "#### Then, the output of the program should be:\n",
    "#### 2"
   ]
  },
  {
   "cell_type": "code",
   "execution_count": 2,
   "id": "96ea5616",
   "metadata": {},
   "outputs": [
    {
     "name": "stdout",
     "output_type": "stream",
     "text": [
      "UP 5\n",
      "DOWN 3\n",
      "LEFT 3\n",
      "RIGHT 2\n",
      "\n",
      "2\n"
     ]
    }
   ],
   "source": [
    "import  math\n",
    "\n",
    "x,y = 0,0\n",
    "while True:\n",
    "    s = input().split()\n",
    "    if not s:\n",
    "        break\n",
    "    if s[0]=='UP':                  \n",
    "        x-=int(s[1])               \n",
    "    if s[0]=='DOWN':\n",
    "        x+=int(s[1])\n",
    "    if s[0]=='LEFT':\n",
    "        y-=int(s[1])\n",
    "    if s[0]=='RIGHT':\n",
    "        y+=int(s[1])\n",
    "                                   \n",
    "distance = round(math.sqrt(x**2 + y**2))\n",
    "print(distance)"
   ]
  },
  {
   "cell_type": "markdown",
   "id": "6384ccea",
   "metadata": {},
   "source": [
    "## Problem 22\n",
    "#### Write a program to compute the frequency of the words from the input. The output should output after sorting the key alphanumerically. \n",
    "#### Suppose the following input is supplied to the program:\n",
    "#### New to Python or choosing between Python 2 and Python 3? Read Python 2 or Python 3.\n",
    "#### Then, the output should be:\n",
    "#### 2:2\n",
    "#### 3.:1\n",
    "#### 3?:1\n",
    "#### New:1\n",
    "#### Python:5\n",
    "#### Read:1\n",
    "#### and:1\n",
    "#### between:1\n",
    "#### choosing:1\n",
    "#### or:2\n",
    "#### to:1"
   ]
  },
  {
   "cell_type": "code",
   "execution_count": 3,
   "id": "d8a023e7",
   "metadata": {},
   "outputs": [
    {
     "name": "stdout",
     "output_type": "stream",
     "text": [
      "New to Python or choosing between Python 2 and Python 3? Read Python 2 or Python 3.\n",
      "2:2\n",
      "3.:1\n",
      "3?:1\n",
      "New:1\n",
      "Python:5\n",
      "Read:1\n",
      "and:1\n",
      "between:1\n",
      "choosing:1\n",
      "or:2\n",
      "to:1\n"
     ]
    }
   ],
   "source": [
    "s = input().split()\n",
    "ans = {}\n",
    "for i in s:\n",
    "    i = ans.setdefault(i,s.count(i))    # setdefault() function takes key & value to set it as dictionary.\n",
    "\n",
    "ans = sorted(ans.items())                 # items() function returns both key & value of dictionary as a list\n",
    "                                          # and then sorted. The sort by default occurs in order of 1st -> 2nd key\n",
    "for i in ans:\n",
    "    print(\"%s:%d\"%(i[0],i[1]))"
   ]
  },
  {
   "cell_type": "markdown",
   "id": "baa19f73",
   "metadata": {},
   "source": [
    "## Problem 23\n",
    "#### Write a method which can calculate square value of number."
   ]
  },
  {
   "cell_type": "code",
   "execution_count": 4,
   "id": "708b1989",
   "metadata": {},
   "outputs": [
    {
     "name": "stdout",
     "output_type": "stream",
     "text": [
      "2\n",
      "4\n"
     ]
    }
   ],
   "source": [
    "n=int(input())\n",
    "\n",
    "print(n**2)"
   ]
  },
  {
   "cell_type": "markdown",
   "id": "254a28fe",
   "metadata": {},
   "source": [
    "## Problem 24\n",
    "#### Python has many built-in functions, and if you do not know how to use it, you can read document online or find some books. But Python has a built-in document function for every built-in functions.\n",
    "#### Please write a program to print some Python built-in functions documents, such as abs(), int(), raw_input()\n",
    "#### And add document for your own function\n",
    "#### Hints: The built-in document method is __doc__"
   ]
  },
  {
   "cell_type": "code",
   "execution_count": 10,
   "id": "2f376a0b",
   "metadata": {},
   "outputs": [
    {
     "name": "stdout",
     "output_type": "stream",
     "text": [
      "str(object='') -> str\n",
      "str(bytes_or_buffer[, encoding[, errors]]) -> str\n",
      "\n",
      "Create a new string object from the given object. If encoding or\n",
      "errors is specified, then the object must expose a data buffer\n",
      "that will be decoded using the given encoding and error handler.\n",
      "Otherwise, returns the result of object.__str__() (if defined)\n",
      "or repr(object).\n",
      "encoding defaults to sys.getdefaultencoding().\n",
      "errors defaults to 'strict'.\n",
      "Return a new list containing all items from the iterable in ascending order.\n",
      "\n",
      "A custom key function can be supplied to customize the sort order, and the\n",
      "reverse flag can be set to request the result in descending order.\n",
      "8\n",
      "None\n"
     ]
    }
   ],
   "source": [
    "print(str.__doc__)\n",
    "print(sorted.__doc__)\n",
    "\n",
    "def pow(n,p):\n",
    "    return n**p\n",
    "\n",
    "print(pow(2,3))\n",
    "print(pow.__doc__)"
   ]
  },
  {
   "cell_type": "markdown",
   "id": "fdb23c14",
   "metadata": {},
   "source": [
    "## Problem 25\n",
    "#### Define a class, which have a class parameter and have a same instance parameter.\n",
    "\n",
    "#### Hints: Define a instance parameter, need add it in __init__ method. You can init a object with construct parameter or set the value later."
   ]
  },
  {
   "cell_type": "code",
   "execution_count": 12,
   "id": "8d797f9a",
   "metadata": {},
   "outputs": [
    {
     "name": "stdout",
     "output_type": "stream",
     "text": [
      "Person name is Jeffrey\n",
      "Person name is Nico\n"
     ]
    }
   ],
   "source": [
    "class Person:\n",
    "    # Define the class parameter \"name\"\n",
    "    name = \"Person\"\n",
    "\n",
    "    def __init__(self, name = None):\n",
    "        # self.name is the instance parameter\n",
    "        self.name = name\n",
    "\n",
    "jeffrey = Person(\"Jeffrey\")\n",
    "print (\"%s name is %s\" % (Person.name, jeffrey.name))\n",
    "\n",
    "nico = Person()\n",
    "nico.name = \"Nico\"\n",
    "print (\"%s name is %s\" % (Person.name, nico.name))"
   ]
  },
  {
   "cell_type": "markdown",
   "id": "4999ab4d",
   "metadata": {},
   "source": [
    "## Problem 26\n",
    "#### Define a function which can compute the sum of two numbers.\n",
    "#### Hints: Define a function with two numbers as arguments. You can compute the sum in the function and return the value."
   ]
  },
  {
   "cell_type": "code",
   "execution_count": 13,
   "id": "e8166679",
   "metadata": {},
   "outputs": [
    {
     "name": "stdout",
     "output_type": "stream",
     "text": [
      "3\n"
     ]
    }
   ],
   "source": [
    "def Sum(number1, number2):\n",
    "    return number1 + number2\n",
    "\n",
    "print(Sum(1,2))"
   ]
  },
  {
   "cell_type": "markdown",
   "id": "d810ad5a",
   "metadata": {},
   "source": [
    "## Problem 27\n",
    "#### Define a function that can convert a integer into a string and print it in console.\n",
    "\n",
    "#### Hints: Use str() to convert a number to string."
   ]
  },
  {
   "cell_type": "code",
   "execution_count": 14,
   "id": "8ea09530",
   "metadata": {},
   "outputs": [
    {
     "name": "stdout",
     "output_type": "stream",
     "text": [
      "3\n"
     ]
    }
   ],
   "source": [
    "def printValue(n):\n",
    "    print(str(n))\n",
    "\n",
    "printValue(3)"
   ]
  },
  {
   "cell_type": "markdown",
   "id": "fd6730c8",
   "metadata": {},
   "source": [
    "## Problem 28\n",
    "#### Define a function that can receive two integral numbers in string form and compute their sum and then print it in console.\n",
    "\n",
    "#### Hints: Use int() to convert a string to integer."
   ]
  },
  {
   "cell_type": "code",
   "execution_count": 15,
   "id": "3302aaac",
   "metadata": {},
   "outputs": [
    {
     "name": "stdout",
     "output_type": "stream",
     "text": [
      "7\n"
     ]
    }
   ],
   "source": [
    "def printValue(s1,s2):\n",
    "    print(int(s1) + int(s2))\n",
    "printValue(\"3\",\"4\")"
   ]
  },
  {
   "cell_type": "markdown",
   "id": "46a4e541",
   "metadata": {},
   "source": [
    "## Problem 29\n",
    "#### Define a function that can accept two strings as input and concatenate them and then print it in console.\n",
    "\n",
    "#### Hints: Use + to concatenate the strings."
   ]
  },
  {
   "cell_type": "code",
   "execution_count": 16,
   "id": "4e262521",
   "metadata": {},
   "outputs": [
    {
     "name": "stdout",
     "output_type": "stream",
     "text": [
      "34\n"
     ]
    }
   ],
   "source": [
    "def printValue(s1,s2):\n",
    "\tprint(s1 + s2)\n",
    "\n",
    "printValue(\"3\",\"4\")"
   ]
  },
  {
   "cell_type": "markdown",
   "id": "7d8fcc98",
   "metadata": {},
   "source": [
    "## Problem 30\n",
    "#### Define a function that can accept two strings as input and print the string with maximum length in console. If two strings have the same length, then the function should print al l strings line by line.\n",
    "\n",
    "#### Hints: Use len() function to get the length of a string"
   ]
  },
  {
   "cell_type": "code",
   "execution_count": 18,
   "id": "e6526296",
   "metadata": {},
   "outputs": [
    {
     "name": "stdout",
     "output_type": "stream",
     "text": [
      "One Three\n",
      "Three\n"
     ]
    }
   ],
   "source": [
    "def printString(s1,s2):\n",
    "    len1 = len(s1)\n",
    "    len2 = len(s2)\n",
    "    if len1 > len2:\n",
    "        print(s1)\n",
    "    elif len1 < len2:\n",
    "        print(s2)\n",
    "    else:\n",
    "        print(s1)\n",
    "        print(s2)\n",
    "\n",
    "s1,s2=input().split()\n",
    "printString(s1,s2)"
   ]
  }
 ],
 "metadata": {
  "kernelspec": {
   "display_name": "Python 3",
   "language": "python",
   "name": "python3"
  },
  "language_info": {
   "codemirror_mode": {
    "name": "ipython",
    "version": 3
   },
   "file_extension": ".py",
   "mimetype": "text/x-python",
   "name": "python",
   "nbconvert_exporter": "python",
   "pygments_lexer": "ipython3",
   "version": "3.8.8"
  }
 },
 "nbformat": 4,
 "nbformat_minor": 5
}
